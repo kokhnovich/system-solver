{
 "cells": [
  {
   "cell_type": "markdown",
   "metadata": {},
   "source": [
    "### hello, in this section I will describe my approaches to my solutions"
   ]
  },
  {
   "cell_type": "markdown",
   "metadata": {},
   "source": [
    "Задание 1. Алгоритм.\n",
    "Реализуем свою версию Гаусса, которая не будет отнимать нулевые элементы.\n",
    "Т.е. идем Гауссом по всем строкам. У текущей строки не более $min(n, i + 2)$ элементов, где и - номер строки.\n",
    "И от каждой строки ниже этой отнимаем эту строку, умноженную на коэффициент, равный первый_элемент_нижней_строки/первый_элемент_опорной_строки (мы рассматриваем как бы подматрицу, поэтому первый элемент в строке - есть первый ненулевой элемент, т.е элемент с индексом номера опорной строки).\n",
    "\n",
    "В результате получится матрица с главной диагональю, 1 элементом над каждым из главной диагонали, и остальные нули.\n",
    "Обратным ходом гаусса занулим элементы выше диагонали, и разделим строки на элемент в них, чтобы слева получить единичную матрицу."
   ]
  },
  {
   "cell_type": "code",
   "execution_count": null,
   "metadata": {},
   "outputs": [],
   "source": []
  }
 ],
 "metadata": {
  "kernelspec": {
   "display_name": "Python 3",
   "language": "python",
   "name": "python3"
  },
  "language_info": {
   "codemirror_mode": {
    "name": "ipython",
    "version": 3
   },
   "file_extension": ".py",
   "mimetype": "text/x-python",
   "name": "python",
   "nbconvert_exporter": "python",
   "pygments_lexer": "ipython3",
   "version": "3.7.3"
  }
 },
 "nbformat": 4,
 "nbformat_minor": 2
}
